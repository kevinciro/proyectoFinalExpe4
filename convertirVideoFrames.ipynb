{
 "cells": [
  {
   "cell_type": "code",
   "execution_count": 1,
   "metadata": {
    "collapsed": true
   },
   "outputs": [],
   "source": [
    "import cv2 as cv\n",
    "import os"
   ]
  },
  {
   "cell_type": "code",
   "execution_count": 2,
   "outputs": [],
   "source": [
    "def convertirVideoFrames(nombreVideo):\n",
    "    video = cv.VideoCapture(nombreVideo + \".mp4\")\n",
    "    hayImagen, frame = video.read()\n",
    "\n",
    "    #se crea una carpeta con el nombre del video\n",
    "    os.mkdir(nombreVideo)\n",
    "\n",
    "    contadorFrames = 0\n",
    "    while (hayImagen):\n",
    "        cv.imwrite(\"./%s/frame%d.jpg\" %(nombreVideo,contadorFrames), frame)\n",
    "        hayImagen, frame = video.read()\n",
    "        contadorFrames += 1\n",
    "\n",
    "    print( \"Video %s.mkv finalizado con %d frames\" %(nombreVideo, contadorFrames) )"
   ],
   "metadata": {
    "collapsed": false,
    "pycharm": {
     "name": "#%%\n"
    }
   }
  },
  {
   "cell_type": "code",
   "execution_count": 5,
   "outputs": [
    {
     "name": "stdout",
     "output_type": "stream",
     "text": [
      "Video video3.mkv finalizado con 672 frames\n"
     ]
    }
   ],
   "source": [
    "convertirVideoFrames(\"video3\")"
   ],
   "metadata": {
    "collapsed": false,
    "pycharm": {
     "name": "#%%\n"
    }
   }
  },
  {
   "cell_type": "code",
   "execution_count": 29,
   "outputs": [],
   "source": [
    "os.rmdir(\"5V150mHz\")"
   ],
   "metadata": {
    "collapsed": false,
    "pycharm": {
     "name": "#%%\n"
    }
   }
  },
  {
   "cell_type": "code",
   "execution_count": null,
   "outputs": [],
   "source": [],
   "metadata": {
    "collapsed": false,
    "pycharm": {
     "name": "#%%\n"
    }
   }
  }
 ],
 "metadata": {
  "kernelspec": {
   "display_name": "Python 3",
   "language": "python",
   "name": "python3"
  },
  "language_info": {
   "codemirror_mode": {
    "name": "ipython",
    "version": 2
   },
   "file_extension": ".py",
   "mimetype": "text/x-python",
   "name": "python",
   "nbconvert_exporter": "python",
   "pygments_lexer": "ipython2",
   "version": "2.7.6"
  }
 },
 "nbformat": 4,
 "nbformat_minor": 0
}
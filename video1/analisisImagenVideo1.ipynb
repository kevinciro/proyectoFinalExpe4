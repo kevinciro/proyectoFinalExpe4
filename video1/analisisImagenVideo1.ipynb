{
 "cells": [
  {
   "cell_type": "code",
   "execution_count": 2,
   "metadata": {
    "collapsed": true
   },
   "outputs": [],
   "source": [
    "import cv2 as cv\n",
    "import numpy as np\n",
    "import matplotlib.pyplot as plt\n",
    "import pandas as pd\n",
    "from scipy.optimize import curve_fit"
   ]
  },
  {
   "cell_type": "code",
   "execution_count": 56,
   "outputs": [],
   "source": [
    "frame = cv.imread(\"./video1/frame375.jpg\", cv.IMREAD_COLOR)"
   ],
   "metadata": {
    "collapsed": false,
    "pycharm": {
     "name": "#%%\n"
    }
   }
  },
  {
   "cell_type": "code",
   "execution_count": 3,
   "outputs": [],
   "source": [
    "cv.imshow(\"frame\", frame)\n",
    "cv.waitKey(0)\n",
    "cv.destroyAllWindows()"
   ],
   "metadata": {
    "collapsed": false,
    "pycharm": {
     "name": "#%%\n"
    }
   }
  },
  {
   "cell_type": "code",
   "execution_count": 65,
   "outputs": [],
   "source": [
    "frameRecortado = frame[330:850, 630:1200]"
   ],
   "metadata": {
    "collapsed": false,
    "pycharm": {
     "name": "#%%\n"
    }
   }
  },
  {
   "cell_type": "code",
   "execution_count": 84,
   "outputs": [],
   "source": [
    "cv.imshow(\"frame\", frameRecortado)\n",
    "cv.waitKey(0)\n",
    "cv.destroyAllWindows()"
   ],
   "metadata": {
    "collapsed": false,
    "pycharm": {
     "name": "#%%\n"
    }
   }
  },
  {
   "cell_type": "code",
   "execution_count": 67,
   "outputs": [
    {
     "data": {
      "text/plain": "(520, 570, 3)"
     },
     "execution_count": 67,
     "metadata": {},
     "output_type": "execute_result"
    }
   ],
   "source": [
    "frameRecortado.shape"
   ],
   "metadata": {
    "collapsed": false,
    "pycharm": {
     "name": "#%%\n"
    }
   }
  },
  {
   "cell_type": "code",
   "execution_count": 68,
   "outputs": [],
   "source": [
    "frameRecortadoBN = cv.cvtColor(frameRecortado, cv.COLOR_BGR2GRAY)"
   ],
   "metadata": {
    "collapsed": false,
    "pycharm": {
     "name": "#%%\n"
    }
   }
  },
  {
   "cell_type": "code",
   "execution_count": 77,
   "outputs": [],
   "source": [
    "cv.imshow(\"frame\", frameRecortadoBN)\n",
    "cv.waitKey(0)\n",
    "cv.destroyAllWindows()"
   ],
   "metadata": {
    "collapsed": false,
    "pycharm": {
     "name": "#%%\n"
    }
   }
  },
  {
   "cell_type": "code",
   "execution_count": 70,
   "outputs": [
    {
     "data": {
      "text/plain": "(520, 570)"
     },
     "execution_count": 70,
     "metadata": {},
     "output_type": "execute_result"
    }
   ],
   "source": [
    "frameRecortadoBN.shape"
   ],
   "metadata": {
    "collapsed": false,
    "pycharm": {
     "name": "#%%\n"
    }
   }
  },
  {
   "cell_type": "code",
   "execution_count": 90,
   "outputs": [
    {
     "data": {
      "text/plain": "array([[254, 254, 253, ..., 146, 146, 146],\n       [254, 254, 253, ..., 148, 148, 148],\n       [254, 254, 254, ..., 150, 150, 150],\n       ...,\n       [202, 202, 201, ..., 193, 194, 194],\n       [200, 201, 200, ..., 193, 193, 193],\n       [201, 201, 203, ..., 194, 194, 194]], dtype=uint8)"
     },
     "execution_count": 90,
     "metadata": {},
     "output_type": "execute_result"
    }
   ],
   "source": [
    "frameRecortadoBN"
   ],
   "metadata": {
    "collapsed": false,
    "pycharm": {
     "name": "#%%\n"
    }
   }
  },
  {
   "cell_type": "code",
   "execution_count": 99,
   "outputs": [
    {
     "data": {
      "text/plain": "<Figure size 432x288 with 1 Axes>",
      "image/png": "[encoded data removed]"
     },
     "metadata": {
      "needs_background": "light"
     },
     "output_type": "display_data"
    }
   ],
   "source": [
    "plt.plot(frameRecortadoBN[:,285])\n",
    "plt.show()"
   ],
   "metadata": {
    "collapsed": false,
    "pycharm": {
     "name": "#%%\n"
    }
   }
  },
  {
   "cell_type": "code",
   "execution_count": 28,
   "outputs": [
    {
     "ename": "NameError",
     "evalue": "name 'frameRecortadoBN' is not defined",
     "output_type": "error",
     "traceback": [
      "\u001B[0;31m---------------------------------------------------------------------------\u001B[0m",
      "\u001B[0;31mNameError\u001B[0m                                 Traceback (most recent call last)",
      "\u001B[0;32m<ipython-input-28-5b1fc96a6ee1>\u001B[0m in \u001B[0;36m<module>\u001B[0;34m\u001B[0m\n\u001B[0;32m----> 1\u001B[0;31m \u001B[0mframeRecortadoBN\u001B[0m\u001B[0;34m[\u001B[0m\u001B[0;34m:\u001B[0m\u001B[0;34m,\u001B[0m\u001B[0;36m285\u001B[0m\u001B[0;34m]\u001B[0m\u001B[0;34m\u001B[0m\u001B[0;34m\u001B[0m\u001B[0m\n\u001B[0m",
      "\u001B[0;31mNameError\u001B[0m: name 'frameRecortadoBN' is not defined"
     ]
    }
   ],
   "source": [
    "frameRecortadoBN[:,285]"
   ],
   "metadata": {
    "collapsed": false,
    "pycharm": {
     "name": "#%%\n"
    }
   }
  },
  {
   "cell_type": "code",
   "execution_count": 116,
   "outputs": [],
   "source": [
    "frameRecortado1 = frame[350:810, 600:1200]\n",
    "#aproximadamente 160 frames de radio 810-350"
   ],
   "metadata": {
    "collapsed": false,
    "pycharm": {
     "name": "#%%\n"
    }
   }
  },
  {
   "cell_type": "code",
   "execution_count": 117,
   "outputs": [],
   "source": [
    "cv.imshow(\"frame\", frameRecortado1)\n",
    "cv.waitKey(0)\n",
    "cv.destroyAllWindows()"
   ],
   "metadata": {
    "collapsed": false,
    "pycharm": {
     "name": "#%%\n"
    }
   }
  },
  {
   "cell_type": "code",
   "execution_count": 1,
   "outputs": [],
   "source": [
    "def intensidadRegion(nombreVideo, imagenInicial, imagenFinal):\n",
    "    cantidadImagenes = imagenFinal-imagenInicial\n",
    "    # El primer arreglo sera de ceros, este es par aguardar todos los perfiles de itnensidades\n",
    "    intensidadesTodosFrames = np.zeros(520)\n",
    "    for i in range(imagenInicial, imagenFinal):\n",
    "        # Se carga el frame\n",
    "        frame = cv.imread(\"./%s/frame%d.jpg\" % (nombreVideo, i), 0)\n",
    "        # Se recorta el frame\n",
    "        frame = np.array(frame[330:850, 630:1200])\n",
    "        # Se crea arreglo dummy para guardar el perfil de intensidad de cada frame en cada iteracion\n",
    "        intensidades = frame[:,285]\n",
    "        # Se stackea el arreglo dummy en uno que guardara todos los  perfiles de intensidades\n",
    "        intensidadesTodosFrames = np.vstack([intensidadesTodosFrames, intensidades])\n",
    "    # Se elimina el primer arreglo de ceros, y se devuelve un arreglo con todos los perfiles de itnensidades\n",
    "    tiempo = np.linspace(0, cantidadImagenes/30, cantidadImagenes)\n",
    "    return intensidadesTodosFrames[1:,:], tiempo"
   ],
   "metadata": {
    "collapsed": false,
    "pycharm": {
     "name": "#%%\n"
    }
   }
  },
  {
   "cell_type": "code",
   "execution_count": null,
   "outputs": [],
   "source": [],
   "metadata": {
    "collapsed": false,
    "pycharm": {
     "name": "#%%\n"
    }
   }
  },
  {
   "cell_type": "code",
   "execution_count": 3,
   "outputs": [],
   "source": [
    "perfilesIntensidades, t = intensidadRegion(\"video1\", 300, 450)"
   ],
   "metadata": {
    "collapsed": false,
    "pycharm": {
     "name": "#%%\n"
    }
   }
  },
  {
   "cell_type": "code",
   "execution_count": 6,
   "outputs": [
    {
     "data": {
      "text/plain": "array([[158., 159., 162., ..., 184., 184., 185.],\n       [158., 160., 162., ..., 184., 184., 185.],\n       [159., 160., 162., ..., 184., 184., 185.],\n       ...,\n       [159., 159., 160., ..., 188., 188., 188.],\n       [160., 160., 160., ..., 188., 188., 188.],\n       [159., 160., 161., ..., 188., 188., 188.]])"
     },
     "execution_count": 6,
     "metadata": {},
     "output_type": "execute_result"
    }
   ],
   "source": [
    "perfilesIntensidades"
   ],
   "metadata": {
    "collapsed": false,
    "pycharm": {
     "name": "#%%\n"
    }
   }
  },
  {
   "cell_type": "code",
   "execution_count": 4,
   "outputs": [
    {
     "data": {
      "text/plain": "<Figure size 432x288 with 1 Axes>",
      "image/png": "[encoded data removed]"
     },
     "metadata": {
      "needs_background": "light"
     },
     "output_type": "display_data"
    }
   ],
   "source": [
    "plt.plot(perfilesIntensidades[49])\n",
    "plt.show()\n",
    "\n"
   ],
   "metadata": {
    "collapsed": false,
    "pycharm": {
     "name": "#%%\n"
    }
   }
  },
  {
   "cell_type": "code",
   "execution_count": 5,
   "outputs": [],
   "source": [
    "arregloDiametros = np.array([])\n",
    "for perfilIntensidad in perfilesIntensidades:\n",
    "    numeroFrames = 0\n",
    "    for intensidad in perfilIntensidad:\n",
    "        # hay que hacer un condicional sobre cada intensidad, establecer un threshold, y guardar el numero de frames cuya intensidad  menores a ese threshold, a ojo el threshold que establece esta entre 150 y 160\n",
    "        if(intensidad<=160):\n",
    "            numeroFrames = numeroFrames + 1\n",
    "\n",
    "    arregloDiametros = np.append(arregloDiametros, numeroFrames)\n",
    "    arregloRadios = arregloDiametros/2\n",
    "    arregloRadiosMetros = arregloRadios * 0.15 / 743  #factor de conversion"
   ],
   "metadata": {
    "collapsed": false,
    "pycharm": {
     "name": "#%%\n"
    }
   }
  },
  {
   "cell_type": "code",
   "execution_count": 6,
   "outputs": [
    {
     "data": {
      "text/plain": "<Figure size 432x288 with 1 Axes>",
      "image/png": "[encoded data removed]"
     },
     "metadata": {
      "needs_background": "light"
     },
     "output_type": "display_data"
    }
   ],
   "source": [
    "plt.plot(t, arregloRadiosMetros, 'o--')\n",
    "plt.xlabel('t(s)')\n",
    "plt.ylabel('Radio (metros)')\n",
    "plt.show()"
   ],
   "metadata": {
    "collapsed": false,
    "pycharm": {
     "name": "#%%\n"
    }
   }
  },
  {
   "cell_type": "code",
   "execution_count": 27,
   "outputs": [
    {
     "data": {
      "text/plain": "array([0.6359354 , 1.05989233, 1.10026918, 1.00942127, 1.37281292,\n       1.86742934, 1.86742934, 1.93808883, 2.10969044, 2.230821  ,\n       2.26110363, 2.34185734, 2.48317631, 2.61440108, 2.77590848,\n       2.92732167, 3.07873486, 3.16958277, 3.31090175, 3.41184388,\n       3.48250336, 3.57335128, 3.62382234, 3.69448183, 3.74495289,\n       3.77523553, 3.85598923, 3.85598923, 3.91655451, 3.987214  ,\n       3.99730821])"
     },
     "execution_count": 27,
     "metadata": {},
     "output_type": "execute_result"
    }
   ],
   "source": [
    "arregloRadiosMetros[0:31]"
   ],
   "metadata": {
    "collapsed": false,
    "pycharm": {
     "name": "#%%\n"
    }
   }
  },
  {
   "cell_type": "code",
   "execution_count": null,
   "outputs": [],
   "source": [],
   "metadata": {
    "collapsed": false,
    "pycharm": {
     "name": "#%%\n"
    }
   }
  },
  {
   "cell_type": "code",
   "execution_count": 12,
   "outputs": [
    {
     "data": {
      "text/plain": "<Figure size 432x288 with 1 Axes>",
      "image/png": "[encoded data removed]"
     },
     "metadata": {
      "needs_background": "light"
     },
     "output_type": "display_data"
    }
   ],
   "source": [
    "plt.plot(t[0:25], arregloRadios[0:25]**2, 'o--')\n",
    "plt.xlabel('t(s)')\n",
    "plt.ylabel('Radio (Numero de frames)')\n",
    "plt.show()"
   ],
   "metadata": {
    "collapsed": false,
    "pycharm": {
     "name": "#%%\n"
    }
   }
  },
  {
   "cell_type": "code",
   "execution_count": 13,
   "outputs": [],
   "source": [
    "data = np.array([arregloRadiosMetros,arregloRadios, t]).T\n",
    "df = pd.DataFrame(data, columns=['radios(metros)','radios(pixeles)', 'tiempo'])"
   ],
   "metadata": {
    "collapsed": false,
    "pycharm": {
     "name": "#%%\n"
    }
   }
  },
  {
   "cell_type": "code",
   "execution_count": null,
   "outputs": [],
   "source": [],
   "metadata": {
    "collapsed": false,
    "pycharm": {
     "name": "#%%\n"
    }
   }
  },
  {
   "cell_type": "code",
   "execution_count": 14,
   "outputs": [],
   "source": [
    "df.to_csv(\"video1.csv\")"
   ],
   "metadata": {
    "collapsed": false,
    "pycharm": {
     "name": "#%%\n"
    }
   }
  },
  {
   "cell_type": "code",
   "execution_count": 15,
   "outputs": [
    {
     "data": {
      "text/plain": "     radios(centimetros)  radios(pixeles)    tiempo\n0               0.006359             31.5  0.000000\n1               0.010599             52.5  0.033557\n2               0.011003             54.5  0.067114\n3               0.010094             50.0  0.100671\n4               0.013728             68.0  0.134228\n..                   ...              ...       ...\n145             0.046131            228.5  4.865772\n146             0.046231            229.0  4.899329\n147             0.046534            230.5  4.932886\n148             0.046534            230.5  4.966443\n149             0.046332            229.5  5.000000\n\n[150 rows x 3 columns]",
      "text/html": "<div>\n<style scoped>\n    .dataframe tbody tr th:only-of-type {\n        vertical-align: middle;\n    }\n\n    .dataframe tbody tr th {\n        vertical-align: top;\n    }\n\n    .dataframe thead th {\n        text-align: right;\n    }\n</style>\n<table border=\"1\" class=\"dataframe\">\n  <thead>\n    <tr style=\"text-align: right;\">\n      <th></th>\n      <th>radios(centimetros)</th>\n      <th>radios(pixeles)</th>\n      <th>tiempo</th>\n    </tr>\n  </thead>\n  <tbody>\n    <tr>\n      <th>0</th>\n      <td>0.006359</td>\n      <td>31.5</td>\n      <td>0.000000</td>\n    </tr>\n    <tr>\n      <th>1</th>\n      <td>0.010599</td>\n      <td>52.5</td>\n      <td>0.033557</td>\n    </tr>\n    <tr>\n      <th>2</th>\n      <td>0.011003</td>\n      <td>54.5</td>\n      <td>0.067114</td>\n    </tr>\n    <tr>\n      <th>3</th>\n      <td>0.010094</td>\n      <td>50.0</td>\n      <td>0.100671</td>\n    </tr>\n    <tr>\n      <th>4</th>\n      <td>0.013728</td>\n      <td>68.0</td>\n      <td>0.134228</td>\n    </tr>\n    <tr>\n      <th>...</th>\n      <td>...</td>\n      <td>...</td>\n      <td>...</td>\n    </tr>\n    <tr>\n      <th>145</th>\n      <td>0.046131</td>\n      <td>228.5</td>\n      <td>4.865772</td>\n    </tr>\n    <tr>\n      <th>146</th>\n      <td>0.046231</td>\n      <td>229.0</td>\n      <td>4.899329</td>\n    </tr>\n    <tr>\n      <th>147</th>\n      <td>0.046534</td>\n      <td>230.5</td>\n      <td>4.932886</td>\n    </tr>\n    <tr>\n      <th>148</th>\n      <td>0.046534</td>\n      <td>230.5</td>\n      <td>4.966443</td>\n    </tr>\n    <tr>\n      <th>149</th>\n      <td>0.046332</td>\n      <td>229.5</td>\n      <td>5.000000</td>\n    </tr>\n  </tbody>\n</table>\n<p>150 rows × 3 columns</p>\n</div>"
     },
     "execution_count": 15,
     "metadata": {},
     "output_type": "execute_result"
    }
   ],
   "source": [
    "df"
   ],
   "metadata": {
    "collapsed": false,
    "pycharm": {
     "name": "#%%\n"
    }
   }
  },
  {
   "cell_type": "code",
   "execution_count": 331,
   "outputs": [],
   "source": [
    "frame = cv.imread(\"./video1/frame300.jpg\", 0)\n",
    "frameRecortado = frame[330:850, 630:1200]\n",
    "cv.circle(frameRecortado,(285,240), int(arregloRadios[0]),(255,0,255),1)\n",
    "cv.line(frameRecortado,(285,0),(285,570), (255, 0,255), 1)\n",
    "cv.imshow('imagen',frameRecortado)\n",
    "cv.waitKey(0)\n",
    "cv.destroyAllWindows()"
   ],
   "metadata": {
    "collapsed": false,
    "pycharm": {
     "name": "#%%\n"
    }
   }
  },
  {
   "cell_type": "code",
   "execution_count": 239,
   "outputs": [],
   "source": [],
   "metadata": {
    "collapsed": false,
    "pycharm": {
     "name": "#%%\n"
    }
   }
  },
  {
   "cell_type": "code",
   "execution_count": null,
   "outputs": [],
   "source": [],
   "metadata": {
    "collapsed": false,
    "pycharm": {
     "name": "#%%\n"
    }
   }
  }
 ],
 "metadata": {
  "kernelspec": {
   "display_name": "Python 3",
   "language": "python",
   "name": "python3"
  },
  "language_info": {
   "codemirror_mode": {
    "name": "ipython",
    "version": 2
   },
   "file_extension": ".py",
   "mimetype": "text/x-python",
   "name": "python",
   "nbconvert_exporter": "python",
   "pygments_lexer": "ipython2",
   "version": "2.7.6"
  }
 },
 "nbformat": 4,
 "nbformat_minor": 0
}
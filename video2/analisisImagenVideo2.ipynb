{
 "cells": [
  {
   "cell_type": "code",
   "execution_count": 3,
   "metadata": {
    "collapsed": true
   },
   "outputs": [],
   "source": [
    "import cv2 as cv\n",
    "import numpy as np\n",
    "import matplotlib.pyplot as plt\n",
    "import pandas as pd\n",
    "from scipy.optimize import curve_fit"
   ]
  },
  {
   "cell_type": "code",
   "execution_count": 17,
   "outputs": [],
   "source": [
    "frame = cv.imread(\"./video2/frame655.jpg\", cv.IMREAD_COLOR)"
   ],
   "metadata": {
    "collapsed": false,
    "pycharm": {
     "name": "#%%\n"
    }
   }
  },
  {
   "cell_type": "code",
   "execution_count": 18,
   "outputs": [],
   "source": [
    "cv.imshow(\"frame\", frame)\n",
    "cv.waitKey(0)\n",
    "cv.destroyAllWindows()"
   ],
   "metadata": {
    "collapsed": false,
    "pycharm": {
     "name": "#%%\n"
    }
   }
  },
  {
   "cell_type": "code",
   "execution_count": 20,
   "outputs": [],
   "source": [
    "frameRecortado = frame[390:700, 600:900]"
   ],
   "metadata": {
    "collapsed": false,
    "pycharm": {
     "name": "#%%\n"
    }
   }
  },
  {
   "cell_type": "code",
   "execution_count": 21,
   "outputs": [],
   "source": [
    "cv.imshow(\"frame\", frameRecortado)\n",
    "cv.waitKey(0)\n",
    "cv.destroyAllWindows()"
   ],
   "metadata": {
    "collapsed": false,
    "pycharm": {
     "name": "#%%\n"
    }
   }
  },
  {
   "cell_type": "code",
   "execution_count": 30,
   "outputs": [
    {
     "data": {
      "text/plain": "(310, 300, 3)"
     },
     "execution_count": 30,
     "metadata": {},
     "output_type": "execute_result"
    }
   ],
   "source": [
    "frameRecortado.shape"
   ],
   "metadata": {
    "collapsed": false,
    "pycharm": {
     "name": "#%%\n"
    }
   }
  },
  {
   "cell_type": "code",
   "execution_count": 22,
   "outputs": [],
   "source": [
    "frameRecortadoBN = cv.cvtColor(frameRecortado, cv.COLOR_BGR2GRAY)"
   ],
   "metadata": {
    "collapsed": false,
    "pycharm": {
     "name": "#%%\n"
    }
   }
  },
  {
   "cell_type": "code",
   "execution_count": 23,
   "outputs": [],
   "source": [
    "cv.imshow(\"frame\", frameRecortadoBN)\n",
    "cv.waitKey(0)\n",
    "cv.destroyAllWindows()"
   ],
   "metadata": {
    "collapsed": false,
    "pycharm": {
     "name": "#%%\n"
    }
   }
  },
  {
   "cell_type": "code",
   "execution_count": 33,
   "outputs": [
    {
     "data": {
      "text/plain": "(310, 300)"
     },
     "execution_count": 33,
     "metadata": {},
     "output_type": "execute_result"
    }
   ],
   "source": [
    "frameRecortadoBN.shape"
   ],
   "metadata": {
    "collapsed": false,
    "pycharm": {
     "name": "#%%\n"
    }
   }
  },
  {
   "cell_type": "code",
   "execution_count": 34,
   "outputs": [
    {
     "data": {
      "text/plain": "array([[126, 125, 125, ..., 150, 150, 150],\n       [126, 125, 125, ..., 150, 150, 150],\n       [125, 125, 125, ..., 149, 149, 149],\n       ...,\n       [137, 137, 137, ..., 152, 152, 152],\n       [137, 137, 138, ..., 151, 152, 151],\n       [138, 138, 138, ..., 152, 152, 152]], dtype=uint8)"
     },
     "execution_count": 34,
     "metadata": {},
     "output_type": "execute_result"
    }
   ],
   "source": [
    "frameRecortadoBN"
   ],
   "metadata": {
    "collapsed": false,
    "pycharm": {
     "name": "#%%\n"
    }
   }
  },
  {
   "cell_type": "code",
   "execution_count": 36,
   "outputs": [
    {
     "data": {
      "text/plain": "<Figure size 432x288 with 1 Axes>",
      "image/png": "[encoded data removed]"
     },
     "metadata": {
      "needs_background": "light"
     },
     "output_type": "display_data"
    }
   ],
   "source": [
    "plt.plot(frameRecortadoBN[:,150])\n",
    "plt.show()"
   ],
   "metadata": {
    "collapsed": false,
    "pycharm": {
     "name": "#%%\n"
    }
   }
  },
  {
   "cell_type": "code",
   "execution_count": 37,
   "outputs": [
    {
     "data": {
      "text/plain": "array([118, 118, 117, 116, 115, 115, 114, 113, 114, 114, 115, 115, 114,\n       113, 112, 112, 111, 111, 109, 109, 107, 105, 104, 104, 103, 103,\n       103, 104, 104, 104, 103, 103, 103, 102, 102, 102, 102, 102, 101,\n       101, 102, 103, 102, 102, 102, 102, 101, 101, 101, 101, 101, 101,\n       100,  99,  99,  99,  99,  98,  98,  98,  98,  98,  97,  97,  97,\n        98,  96,  96,  96,  96,  96,  96,  96,  97,  96,  96,  96,  96,\n        96,  96,  96,  96,  97,  97,  97,  97,  96,  96,  96,  96,  96,\n        96,  97,  96,  96,  96,  95,  94,  92,  92,  91,  90,  91,  90,\n        88,  85,  86,  85,  84,  83,  81,  79,  79,  80,  81,  79,  77,\n        76,  78,  78,  79,  81,  88,  86,  77,  71,  53,  41,  27,  22,\n        22,  28,  27,  26,  31,  32,  40,  56,  68,  80,  86,  81,  82,\n        76,  75,  76,  74,  76,  79,  73,  68,  63,  54,  52,  52,  54,\n        56,  59,  56,  44,  35,  36,  44,  54,  62,  67,  71,  75,  77,\n        78,  77,  78,  82,  86,  89,  90,  88,  84,  84,  83,  84,  87,\n       100,  97,  83,  56,  28,  11,  19,  34,  40,  38,  24,  15,  12,\n         6,   2,   3,   6,   6,   6,   6,  14,  22,  25,  32,  51,  71,\n        92, 113, 120, 125, 121, 119, 121, 124, 125, 121, 120, 123, 124,\n       122, 121, 122, 122, 121, 123, 129, 134, 137, 139, 140, 137, 134,\n       135, 135, 135, 136, 137, 135, 132, 130, 129, 127, 124, 122, 122,\n       122, 122, 122, 121, 122, 122, 122, 122, 121, 121, 121, 120, 120,\n       120, 119, 119, 120, 120, 121, 121, 122, 122, 121, 121, 120, 121,\n       121, 122, 122, 122, 123, 124, 124, 125, 126, 128, 128, 129, 132,\n       139, 147, 152, 154, 153, 147, 139, 135, 136, 136, 136, 136, 136,\n       136, 136, 137, 137, 138, 138, 139, 139, 139, 139, 139], dtype=uint8)"
     },
     "execution_count": 37,
     "metadata": {},
     "output_type": "execute_result"
    }
   ],
   "source": [
    "frameRecortadoBN[:,150]"
   ],
   "metadata": {
    "collapsed": false,
    "pycharm": {
     "name": "#%%\n"
    }
   }
  },
  {
   "cell_type": "code",
   "execution_count": 116,
   "outputs": [],
   "source": [
    "frameRecortado1 = frame[350:810, 600:1200]\n",
    "#aproximadamente 160 frames de radio 810-350"
   ],
   "metadata": {
    "collapsed": false,
    "pycharm": {
     "name": "#%%\n"
    }
   }
  },
  {
   "cell_type": "code",
   "execution_count": 117,
   "outputs": [],
   "source": [
    "cv.imshow(\"frame\", frameRecortado1)\n",
    "cv.waitKey(0)\n",
    "cv.destroyAllWindows()"
   ],
   "metadata": {
    "collapsed": false,
    "pycharm": {
     "name": "#%%\n"
    }
   }
  },
  {
   "cell_type": "code",
   "execution_count": 1,
   "outputs": [],
   "source": [
    "def intensidadRegion(nombreVideo, imagenInicial, imagenFinal):\n",
    "    cantidadImagenes = imagenFinal-imagenInicial\n",
    "    # El primer arreglo sera de ceros, este es par aguardar todos los perfiles de itnensidades\n",
    "    intensidadesTodosFrames = np.zeros(310)\n",
    "    for i in range(imagenInicial, imagenFinal):\n",
    "        # Se carga el frame\n",
    "        frame = cv.imread(\"./%s/frame%d.jpg\" % (nombreVideo, i), 0)\n",
    "        # Se recorta el frame\n",
    "        frame = np.array(frame[390:700, 600:900])\n",
    "        # Se crea arreglo dummy para guardar el perfil de intensidad de cada frame en cada iteracion\n",
    "        intensidades = frame[:,150]\n",
    "        # Se stackea el arreglo dummy en uno que guardara todos los  perfiles de intensidades\n",
    "        intensidadesTodosFrames = np.vstack([intensidadesTodosFrames, intensidades])\n",
    "    # Se elimina el primer arreglo de ceros, y se devuelve un arreglo con todos los perfiles de itnensidades\n",
    "    tiempo = np.linspace(0, cantidadImagenes/30, cantidadImagenes)\n",
    "    return intensidadesTodosFrames[1:,:], tiempo"
   ],
   "metadata": {
    "collapsed": false,
    "pycharm": {
     "name": "#%%\n"
    }
   }
  },
  {
   "cell_type": "markdown",
   "source": [],
   "metadata": {
    "collapsed": false
   }
  },
  {
   "cell_type": "code",
   "execution_count": 4,
   "outputs": [],
   "source": [
    "perfilesIntensidades, t = intensidadRegion(\"video2\", 555, 655)"
   ],
   "metadata": {
    "collapsed": false,
    "pycharm": {
     "name": "#%%\n"
    }
   }
  },
  {
   "cell_type": "code",
   "execution_count": 43,
   "outputs": [
    {
     "data": {
      "text/plain": "array([[200., 200., 200., ..., 179., 178., 179.],\n       [199., 200., 201., ..., 179., 178., 178.],\n       [201., 201., 201., ..., 180., 180., 180.],\n       ...,\n       [117., 116., 114., ..., 140., 140., 141.],\n       [118., 117., 116., ..., 139., 140., 140.],\n       [118., 118., 117., ..., 139., 139., 140.]])"
     },
     "execution_count": 43,
     "metadata": {},
     "output_type": "execute_result"
    }
   ],
   "source": [
    "perfilesIntensidades"
   ],
   "metadata": {
    "collapsed": false,
    "pycharm": {
     "name": "#%%\n"
    }
   }
  },
  {
   "cell_type": "code",
   "execution_count": 32,
   "outputs": [
    {
     "data": {
      "text/plain": "array([118., 118., 117., 116., 115., 114., 114., 113., 113., 114., 112.,\n       112., 112., 112., 111., 111., 111., 111., 110., 108., 105., 104.,\n       104., 103., 103., 103., 103., 104., 104., 104., 103., 103., 103.,\n       102., 102., 102., 102., 102., 101., 101., 102., 103., 102., 102.,\n       102., 101., 101., 101., 101., 100., 101., 101., 100., 100., 100.,\n        99.,  98.,  98.,  98.,  98.,  98.,  98.,  97.,  97.,  97.,  97.,\n        96.,  96.,  96.,  96.,  96.,  96.,  96.,  97.,  95.,  96.,  96.,\n        95.,  95.,  95.,  95.,  96.,  97.,  97.,  97.,  97.,  97.,  97.,\n        97.,  97.,  97.,  97.,  97.,  97.,  97.,  97.,  97.,  97.,  95.,\n        95.,  94.,  93.,  92.,  92.,  91.,  91.,  89.,  87.,  86.,  85.,\n        82.,  79.,  79.,  80.,  80.,  78.,  78.,  79.,  80.,  82.,  85.,\n        86.,  91.,  87.,  77.,  70.,  57.,  38.,  24.,  17.,  12.,  18.,\n        28.,  29.,  29.,  33.,  39.,  50.,  66.,  80.,  91.,  90.,  84.,\n        78.,  73.,  72.,  75.,  78.,  74.,  69.,  66.,  60.,  55.,  54.,\n        52.,  51.,  56.,  58.,  56.,  47.,  37.,  40.,  50.,  61.,  69.,\n        71.,  74.,  78.,  81.,  81.,  82.,  83.,  89.,  94.,  94.,  92.,\n        89.,  87.,  85.,  86.,  86.,  88.,  97.,  99.,  82.,  62.,  30.,\n        15.,  18.,  33.,  44.,  43.,  30.,  20.,  14.,   9.,   6.,   7.,\n         7.,   5.,   8.,  13.,  16.,  24.,  26.,  35.,  57.,  77.,  95.,\n       115., 127., 129., 121., 118., 120., 122., 125., 123., 122., 125.,\n       123., 121., 123., 123., 122., 125., 126., 131., 135., 139., 141.,\n       140., 137., 136., 136., 135., 135., 136., 137., 137., 136., 133.,\n       132., 130., 126., 124., 123., 123., 122., 122., 122., 122., 122.,\n       122., 122., 122., 121., 121., 120., 120., 120., 120., 120., 120.,\n       120., 120., 121., 121., 121., 121., 122., 122., 123., 123., 124.,\n       123., 124., 125., 125., 125., 126., 128., 129., 129., 130., 133.,\n       139., 147., 152., 153., 152., 147., 139., 135., 135., 136., 136.,\n       136., 137., 137., 137., 137., 138., 138., 139., 140., 139., 139.,\n       139., 140.])"
     },
     "execution_count": 32,
     "metadata": {},
     "output_type": "execute_result"
    }
   ],
   "source": [
    "perfilesIntensidades[99]"
   ],
   "metadata": {
    "collapsed": false,
    "pycharm": {
     "name": "#%%\n"
    }
   }
  },
  {
   "cell_type": "code",
   "execution_count": 44,
   "outputs": [
    {
     "data": {
      "text/plain": "<Figure size 432x288 with 1 Axes>",
      "image/png": "[encoded data removed]"
     },
     "metadata": {
      "needs_background": "light"
     },
     "output_type": "display_data"
    }
   ],
   "source": [
    "plt.plot(perfilesIntensidades[49])\n",
    "plt.show()"
   ],
   "metadata": {
    "collapsed": false,
    "pycharm": {
     "name": "#%%\n"
    }
   }
  },
  {
   "cell_type": "code",
   "execution_count": 36,
   "outputs": [],
   "source": [
    "arregloDiametros = np.array([])\n",
    "for perfilIntensidad in perfilesIntensidades:\n",
    "    numeroFrames = 0\n",
    "    for intensidad in perfilIntensidad:\n",
    "        # hay que hacer un condicional sobre cada intensidad, establecer un threshold, y guardar el numero de frames cuya intensidad  menores a ese threshold, a ojo el threshold que establece esta entre 150 y 160\n",
    "        if(intensidad<=180):\n",
    "            numeroFrames = numeroFrames + 1\n",
    "\n",
    "    arregloDiametros = np.append(arregloDiametros, numeroFrames)\n",
    "    arregloRadios = arregloDiametros/2\n",
    "    arregloRadiosMetros = arregloRadios * 0.15 / 743  #factor de conversion"
   ],
   "metadata": {
    "collapsed": false,
    "pycharm": {
     "name": "#%%\n"
    }
   }
  },
  {
   "cell_type": "code",
   "execution_count": 34,
   "outputs": [
    {
     "data": {
      "text/plain": "<Figure size 432x288 with 1 Axes>",
      "image/png": "[encoded data removed]"
     },
     "metadata": {
      "needs_background": "light"
     },
     "output_type": "display_data"
    }
   ],
   "source": [
    "plt.plot(t, arregloRadios, 'o--')\n",
    "plt.xlabel('t(s)')\n",
    "plt.ylabel('Radio (Numero de frames)')\n",
    "plt.show()"
   ],
   "metadata": {
    "collapsed": false,
    "pycharm": {
     "name": "#%%\n"
    }
   }
  },
  {
   "cell_type": "code",
   "execution_count": 37,
   "outputs": [
    {
     "data": {
      "text/plain": "array([ 36. ,  41. ,  51.5,  68.5,  47.5,  53.5,  56.5,  70. ,  74.5,\n        76.5,  80. ,  85.5,  86. ,  86.5,  91.5,  92. ,  91.5,  86. ,\n       107. , 110. , 112. , 112. , 114. , 114.5, 113.5, 108. , 107. ,\n       109. , 114. , 107.5, 108.5])"
     },
     "execution_count": 37,
     "metadata": {},
     "output_type": "execute_result"
    }
   ],
   "source": [
    "arregloRadios[0:31]"
   ],
   "metadata": {
    "collapsed": false,
    "pycharm": {
     "name": "#%%\n"
    }
   }
  },
  {
   "cell_type": "code",
   "execution_count": null,
   "outputs": [],
   "source": [],
   "metadata": {
    "collapsed": false,
    "pycharm": {
     "name": "#%%\n"
    }
   }
  },
  {
   "cell_type": "code",
   "execution_count": 56,
   "outputs": [
    {
     "data": {
      "text/plain": "<Figure size 432x288 with 1 Axes>",
      "image/png": "[encoded data removed]"
     },
     "metadata": {
      "needs_background": "light"
     },
     "output_type": "display_data"
    }
   ],
   "source": [
    "plt.plot(t[0:25], arregloRadios[0:25], 'o--')\n",
    "plt.xlabel('t(s)')\n",
    "plt.ylabel('Radio (Numero de frames)')\n",
    "plt.show()"
   ],
   "metadata": {
    "collapsed": false,
    "pycharm": {
     "name": "#%%\n"
    }
   }
  },
  {
   "cell_type": "code",
   "execution_count": 14,
   "outputs": [],
   "source": [
    "data = np.array([arregloRadiosMetros,arregloRadios, t]).T\n",
    "df = pd.DataFrame(data, columns=['radios(metros)','radios(pixeles)', 'tiempo'])"
   ],
   "metadata": {
    "collapsed": false,
    "pycharm": {
     "name": "#%%\n"
    }
   }
  },
  {
   "cell_type": "code",
   "execution_count": 15,
   "outputs": [],
   "source": [
    "df.to_csv(\"video2.csv\")"
   ],
   "metadata": {
    "collapsed": false,
    "pycharm": {
     "name": "#%%\n"
    }
   }
  },
  {
   "cell_type": "code",
   "execution_count": 16,
   "outputs": [
    {
     "data": {
      "text/plain": "    radios(metros)  radios(pixeles)    tiempo\n0         0.007268             36.0  0.000000\n1         0.008277             41.0  0.033670\n2         0.010397             51.5  0.067340\n3         0.013829             68.5  0.101010\n4         0.009590             47.5  0.134680\n..             ...              ...       ...\n95        0.031292            155.0  3.198653\n96        0.031292            155.0  3.232323\n97        0.031292            155.0  3.265993\n98        0.031292            155.0  3.299663\n99        0.031292            155.0  3.333333\n\n[100 rows x 3 columns]",
      "text/html": "<div>\n<style scoped>\n    .dataframe tbody tr th:only-of-type {\n        vertical-align: middle;\n    }\n\n    .dataframe tbody tr th {\n        vertical-align: top;\n    }\n\n    .dataframe thead th {\n        text-align: right;\n    }\n</style>\n<table border=\"1\" class=\"dataframe\">\n  <thead>\n    <tr style=\"text-align: right;\">\n      <th></th>\n      <th>radios(metros)</th>\n      <th>radios(pixeles)</th>\n      <th>tiempo</th>\n    </tr>\n  </thead>\n  <tbody>\n    <tr>\n      <th>0</th>\n      <td>0.007268</td>\n      <td>36.0</td>\n      <td>0.000000</td>\n    </tr>\n    <tr>\n      <th>1</th>\n      <td>0.008277</td>\n      <td>41.0</td>\n      <td>0.033670</td>\n    </tr>\n    <tr>\n      <th>2</th>\n      <td>0.010397</td>\n      <td>51.5</td>\n      <td>0.067340</td>\n    </tr>\n    <tr>\n      <th>3</th>\n      <td>0.013829</td>\n      <td>68.5</td>\n      <td>0.101010</td>\n    </tr>\n    <tr>\n      <th>4</th>\n      <td>0.009590</td>\n      <td>47.5</td>\n      <td>0.134680</td>\n    </tr>\n    <tr>\n      <th>...</th>\n      <td>...</td>\n      <td>...</td>\n      <td>...</td>\n    </tr>\n    <tr>\n      <th>95</th>\n      <td>0.031292</td>\n      <td>155.0</td>\n      <td>3.198653</td>\n    </tr>\n    <tr>\n      <th>96</th>\n      <td>0.031292</td>\n      <td>155.0</td>\n      <td>3.232323</td>\n    </tr>\n    <tr>\n      <th>97</th>\n      <td>0.031292</td>\n      <td>155.0</td>\n      <td>3.265993</td>\n    </tr>\n    <tr>\n      <th>98</th>\n      <td>0.031292</td>\n      <td>155.0</td>\n      <td>3.299663</td>\n    </tr>\n    <tr>\n      <th>99</th>\n      <td>0.031292</td>\n      <td>155.0</td>\n      <td>3.333333</td>\n    </tr>\n  </tbody>\n</table>\n<p>100 rows × 3 columns</p>\n</div>"
     },
     "execution_count": 16,
     "metadata": {},
     "output_type": "execute_result"
    }
   ],
   "source": [
    "df"
   ],
   "metadata": {
    "collapsed": false,
    "pycharm": {
     "name": "#%%\n"
    }
   }
  },
  {
   "cell_type": "code",
   "execution_count": 31,
   "outputs": [],
   "source": [
    "frame = cv.imread(\"./video2/frame655.jpg\", 0)\n",
    "frameRecortado = frame[390:695, 600:910]\n",
    "cv.circle(frameRecortado,(155,150), int(arregloRadios[99]),(255,0,255),1)\n",
    "cv.line(frameRecortado,(155,0),(155,570), (255, 0,255), 1)\n",
    "cv.imshow('imagen',frameRecortado)\n",
    "cv.waitKey(0)\n",
    "cv.destroyAllWindows()"
   ],
   "metadata": {
    "collapsed": false,
    "pycharm": {
     "name": "#%%\n"
    }
   }
  },
  {
   "cell_type": "code",
   "execution_count": 239,
   "outputs": [],
   "source": [],
   "metadata": {
    "collapsed": false,
    "pycharm": {
     "name": "#%%\n"
    }
   }
  },
  {
   "cell_type": "code",
   "execution_count": null,
   "outputs": [],
   "source": [],
   "metadata": {
    "collapsed": false,
    "pycharm": {
     "name": "#%%\n"
    }
   }
  }
 ],
 "metadata": {
  "kernelspec": {
   "display_name": "Python 3",
   "language": "python",
   "name": "python3"
  },
  "language_info": {
   "codemirror_mode": {
    "name": "ipython",
    "version": 2
   },
   "file_extension": ".py",
   "mimetype": "text/x-python",
   "name": "python",
   "nbconvert_exporter": "python",
   "pygments_lexer": "ipython2",
   "version": "2.7.6"
  }
 },
 "nbformat": 4,
 "nbformat_minor": 0
}
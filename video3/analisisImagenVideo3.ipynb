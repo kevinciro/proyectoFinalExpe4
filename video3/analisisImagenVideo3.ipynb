{
 "cells": [
  {
   "cell_type": "code",
   "execution_count": 3,
   "metadata": {
    "collapsed": true
   },
   "outputs": [],
   "source": [
    "import cv2 as cv\n",
    "import numpy as np\n",
    "import matplotlib.pyplot as plt\n",
    "import pandas as pd\n",
    "from scipy.optimize import curve_fit"
   ]
  },
  {
   "cell_type": "code",
   "execution_count": 27,
   "outputs": [],
   "source": [
    "frame = cv.imread(\"./video3/frame598.jpg\", cv.IMREAD_COLOR)"
   ],
   "metadata": {
    "collapsed": false,
    "pycharm": {
     "name": "#%%\n"
    }
   }
  },
  {
   "cell_type": "code",
   "execution_count": 28,
   "outputs": [],
   "source": [
    "cv.imshow(\"frame\", frame)\n",
    "cv.waitKey(0)\n",
    "cv.destroyAllWindows()"
   ],
   "metadata": {
    "collapsed": false,
    "pycharm": {
     "name": "#%%\n"
    }
   }
  },
  {
   "cell_type": "code",
   "execution_count": 29,
   "outputs": [],
   "source": [
    "frameRecortado = frame[0:850, 630:1200]"
   ],
   "metadata": {
    "collapsed": false,
    "pycharm": {
     "name": "#%%\n"
    }
   }
  },
  {
   "cell_type": "code",
   "execution_count": 30,
   "outputs": [],
   "source": [
    "cv.imshow(\"frame\", frameRecortado)\n",
    "cv.waitKey(0)\n",
    "cv.destroyAllWindows()"
   ],
   "metadata": {
    "collapsed": false,
    "pycharm": {
     "name": "#%%\n"
    }
   }
  },
  {
   "cell_type": "code",
   "execution_count": 6,
   "outputs": [
    {
     "data": {
      "text/plain": "(520, 570, 3)"
     },
     "execution_count": 6,
     "metadata": {},
     "output_type": "execute_result"
    }
   ],
   "source": [
    "frameRecortado.shape"
   ],
   "metadata": {
    "collapsed": false,
    "pycharm": {
     "name": "#%%\n"
    }
   }
  },
  {
   "cell_type": "code",
   "execution_count": 7,
   "outputs": [],
   "source": [
    "frameRecortadoBN = cv.cvtColor(frameRecortado, cv.COLOR_BGR2GRAY)"
   ],
   "metadata": {
    "collapsed": false,
    "pycharm": {
     "name": "#%%\n"
    }
   }
  },
  {
   "cell_type": "code",
   "execution_count": 8,
   "outputs": [],
   "source": [
    "cv.imshow(\"frame\", frameRecortadoBN)\n",
    "cv.waitKey(0)\n",
    "cv.destroyAllWindows()"
   ],
   "metadata": {
    "collapsed": false,
    "pycharm": {
     "name": "#%%\n"
    }
   }
  },
  {
   "cell_type": "code",
   "execution_count": 9,
   "outputs": [
    {
     "data": {
      "text/plain": "(520, 570)"
     },
     "execution_count": 9,
     "metadata": {},
     "output_type": "execute_result"
    }
   ],
   "source": [
    "frameRecortadoBN.shape"
   ],
   "metadata": {
    "collapsed": false,
    "pycharm": {
     "name": "#%%\n"
    }
   }
  },
  {
   "cell_type": "code",
   "execution_count": 10,
   "outputs": [
    {
     "data": {
      "text/plain": "array([[208, 211, 213, ..., 168, 168, 168],\n       [211, 214, 217, ..., 168, 168, 168],\n       [210, 213, 218, ..., 169, 169, 169],\n       ...,\n       [228, 229, 229, ..., 193, 193, 193],\n       [231, 233, 233, ..., 193, 193, 194],\n       [229, 230, 226, ..., 192, 192, 193]], dtype=uint8)"
     },
     "execution_count": 10,
     "metadata": {},
     "output_type": "execute_result"
    }
   ],
   "source": [
    "frameRecortadoBN"
   ],
   "metadata": {
    "collapsed": false,
    "pycharm": {
     "name": "#%%\n"
    }
   }
  },
  {
   "cell_type": "code",
   "execution_count": 11,
   "outputs": [
    {
     "data": {
      "text/plain": "<Figure size 432x288 with 1 Axes>",
      "image/png": "[encoded data removed]"
     },
     "metadata": {
      "needs_background": "light"
     },
     "output_type": "display_data"
    }
   ],
   "source": [
    "plt.plot(frameRecortadoBN[:,285])\n",
    "plt.show()"
   ],
   "metadata": {
    "collapsed": false,
    "pycharm": {
     "name": "#%%\n"
    }
   }
  },
  {
   "cell_type": "code",
   "execution_count": 12,
   "outputs": [
    {
     "data": {
      "text/plain": "array([176, 176, 176, 177, 177, 176, 177, 177, 177, 177, 177, 177, 177,\n       177, 176, 176, 177, 177, 177, 177, 177, 177, 178, 178, 179, 179,\n       177, 177, 176, 174, 172, 170, 168, 168, 170, 170, 169, 168, 169,\n       168, 166, 165, 164, 164, 164, 164, 163, 164, 165, 166, 167, 167,\n       167, 167, 166, 166, 166, 166, 165, 164, 164, 165, 167, 167, 167,\n       167, 167, 167, 167, 167, 167, 167, 167, 166, 166, 166, 166, 165,\n       166, 166, 166, 166, 166, 167, 167, 167, 167, 167, 167, 168, 168,\n       169, 169, 168, 168, 167, 168, 169, 169, 169, 170, 170, 170, 170,\n       170, 170, 170, 170, 170, 170, 170, 170, 170, 170, 169, 169, 169,\n       169, 170, 170, 170, 170, 170, 170, 170, 170, 170, 170, 170, 170,\n       170, 169, 169, 169, 168, 167, 167, 168, 168, 168, 168, 168, 167,\n       167, 167, 167, 167, 167, 167, 167, 167, 167, 167, 166, 165, 165,\n       165, 165, 164, 164, 164, 164, 165, 165, 165, 165, 165, 165, 165,\n       165, 165, 165, 165, 165, 164, 164, 164, 164, 164, 164, 164, 164,\n       164, 163, 163, 163, 162, 162, 162, 162, 162, 162, 163, 163, 161,\n       160, 160, 159, 159, 159, 159, 159, 159, 157, 155, 154, 153, 156,\n       161, 158, 153, 133, 100,  60,  25,   8,   2,  10,  17,  18,  19,\n        21,  23,  23,  26,  34,  42,  47,  54,  64,  81,  86,  81,  71,\n        64,  60,  56,  53,  51,  60,  69,  69,  57,  41,  29,  25,  27,\n        27,  26,  26,  26,  26,  27,  28,  27,  25,  25,  24,  22,  22,\n        23,  23,  20,  20,  21,  23,  26,  27,  29,  30,  29,  33,  37,\n        38,  53,  61,  64,  68,  68,  76,  82,  92, 102, 102, 102, 103,\n       107, 109, 111, 118, 120, 113, 104,  94,  52,  33,  18,   6,   0,\n         2,   7,  12,  15,  19,  26,  32,  35,  34,  29,  24,  24,  21,\n        19,  19,  19,  19,  19,  20,  23,  21,  20,  18,  17,  17,  18,\n        19,  21,  26,  30,  37,  56,  77,  92,  99, 108, 112, 121, 129,\n       131, 132, 134, 138, 138, 140, 141, 141, 142, 143, 143, 143, 144,\n       144, 145, 146, 147, 146, 146, 147, 147, 148, 148, 147, 148, 148,\n       148, 148, 148, 148, 148, 148, 148, 148, 148, 148, 148, 148, 148,\n       148, 148, 148, 148, 148, 148, 148, 148, 148, 148, 149, 149, 149,\n       149, 149, 149, 148, 149, 149, 150, 151, 150, 150, 150, 150, 150,\n       150, 150, 150, 150, 150, 150, 150, 150, 150, 151, 151, 152, 152,\n       153, 153, 154, 154, 154, 154, 154, 154, 155, 155, 155, 155, 156,\n       156, 156, 156, 157, 157, 157, 157, 158, 158, 158, 158, 158, 158,\n       159, 159, 159, 159, 159, 160, 160, 160, 160, 161, 161, 160, 159,\n       159, 159, 159, 160, 160, 161, 162, 162, 161, 162, 162, 164, 166,\n       167, 168, 171, 172, 174, 174, 175, 175, 175, 176, 179, 178, 179,\n       180, 181, 182, 183, 184, 184, 184, 185, 186, 186, 185, 185, 185,\n       185, 185, 185, 185, 185, 185, 185, 185, 186, 185, 185, 185, 185,\n       186, 186, 186, 186, 186, 186, 186, 185, 185, 185, 185, 186, 184],\n      dtype=uint8)"
     },
     "execution_count": 12,
     "metadata": {},
     "output_type": "execute_result"
    }
   ],
   "source": [
    "frameRecortadoBN[:,285]"
   ],
   "metadata": {
    "collapsed": false,
    "pycharm": {
     "name": "#%%\n"
    }
   }
  },
  {
   "cell_type": "code",
   "execution_count": 116,
   "outputs": [],
   "source": [
    "frameRecortado1 = frame[350:810, 600:1200]\n",
    "#aproximadamente 160 frames de radio 810-350"
   ],
   "metadata": {
    "collapsed": false,
    "pycharm": {
     "name": "#%%\n"
    }
   }
  },
  {
   "cell_type": "code",
   "execution_count": 117,
   "outputs": [],
   "source": [
    "cv.imshow(\"frame\", frameRecortado1)\n",
    "cv.waitKey(0)\n",
    "cv.destroyAllWindows()"
   ],
   "metadata": {
    "collapsed": false,
    "pycharm": {
     "name": "#%%\n"
    }
   }
  },
  {
   "cell_type": "code",
   "execution_count": 4,
   "outputs": [],
   "source": [
    "def intensidadRegion(nombreVideo, imagenInicial, imagenFinal):\n",
    "    cantidadImagenes = imagenFinal-imagenInicial\n",
    "    # El primer arreglo sera de ceros, este es par aguardar todos los perfiles de itnensidades\n",
    "    intensidadesTodosFrames = np.zeros(520)\n",
    "    for i in range(imagenInicial, imagenFinal):\n",
    "        # Se carga el frame\n",
    "        frame = cv.imread(\"./%s/frame%d.jpg\" % (nombreVideo, i), 0)\n",
    "        # Se recorta el frame\n",
    "        frame = np.array(frame[330:850, 630:1200])\n",
    "        # Se crea arreglo dummy para guardar el perfil de intensidad de cada frame en cada iteracion\n",
    "        intensidades = frame[:,285]\n",
    "        # Se stackea el arreglo dummy en uno que guardara todos los  perfiles de intensidades\n",
    "        intensidadesTodosFrames = np.vstack([intensidadesTodosFrames, intensidades])\n",
    "    # Se elimina el primer arreglo de ceros, y se devuelve un arreglo con todos los perfiles de itnensidades\n",
    "    tiempo = np.linspace(0, cantidadImagenes/30, cantidadImagenes)\n",
    "    return intensidadesTodosFrames[1:,:], tiempo"
   ],
   "metadata": {
    "collapsed": false,
    "pycharm": {
     "name": "#%%\n"
    }
   }
  },
  {
   "cell_type": "code",
   "execution_count": 5,
   "outputs": [],
   "source": [
    "perfilesIntensidades, t = intensidadRegion(\"video3\", 498, 598)"
   ],
   "metadata": {
    "collapsed": false,
    "pycharm": {
     "name": "#%%\n"
    }
   }
  },
  {
   "cell_type": "code",
   "execution_count": 17,
   "outputs": [
    {
     "data": {
      "text/plain": "array([[174., 174., 174., ..., 183., 183., 181.],\n       [174., 174., 174., ..., 184., 182., 182.],\n       [174., 174., 174., ..., 184., 183., 181.],\n       ...,\n       [175., 175., 175., ..., 185., 185., 184.],\n       [175., 176., 175., ..., 185., 185., 184.],\n       [176., 176., 176., ..., 185., 185., 184.]])"
     },
     "execution_count": 17,
     "metadata": {},
     "output_type": "execute_result"
    }
   ],
   "source": [
    "perfilesIntensidades"
   ],
   "metadata": {
    "collapsed": false,
    "pycharm": {
     "name": "#%%\n"
    }
   }
  },
  {
   "cell_type": "code",
   "execution_count": 7,
   "outputs": [
    {
     "data": {
      "text/plain": "<Figure size 432x288 with 1 Axes>",
      "image/png": "[encoded data removed]"
     },
     "metadata": {
      "needs_background": "light"
     },
     "output_type": "display_data"
    }
   ],
   "source": [
    "plt.plot(perfilesIntensidades[49])\n",
    "plt.show()"
   ],
   "metadata": {
    "collapsed": false,
    "pycharm": {
     "name": "#%%\n"
    }
   }
  },
  {
   "cell_type": "code",
   "execution_count": 28,
   "outputs": [],
   "source": [
    "arregloDiametros = np.array([])\n",
    "for perfilIntensidad in perfilesIntensidades:\n",
    "    numeroFrames = 0\n",
    "    for intensidad in perfilIntensidad:\n",
    "        # hay que hacer un condicional sobre cada intensidad, establecer un threshold, y guardar el numero de frames cuya intensidad  menores a ese threshold, a ojo el threshold que establece esta entre 150 y 160\n",
    "        if(intensidad<=160):\n",
    "            numeroFrames = numeroFrames + 1\n",
    "\n",
    "    arregloDiametros = np.append(arregloDiametros, numeroFrames)\n",
    "    arregloRadios = arregloDiametros/2\n",
    "    arregloRadiosMetros = arregloRadios*0.15/764 #Conversion a metros"
   ],
   "metadata": {
    "collapsed": false,
    "pycharm": {
     "name": "#%%\n"
    }
   }
  },
  {
   "cell_type": "code",
   "execution_count": 29,
   "outputs": [
    {
     "data": {
      "text/plain": "<Figure size 432x288 with 1 Axes>",
      "image/png": "[encoded data removed]"
     },
     "metadata": {
      "needs_background": "light"
     },
     "output_type": "display_data"
    }
   ],
   "source": [
    "plt.plot(t**2, arregloRadiosMetros, 'o--')\n",
    "plt.xlabel('t(s)')\n",
    "plt.ylabel('Radio (metros)')\n",
    "plt.show()"
   ],
   "metadata": {
    "collapsed": false,
    "pycharm": {
     "name": "#%%\n"
    }
   }
  },
  {
   "cell_type": "code",
   "execution_count": 30,
   "outputs": [
    {
     "data": {
      "text/plain": "array([ 22. ,  48. ,  71.5,  78. ,  82.5, 104.5, 117. , 115. , 120.5,\n       127. , 132.5, 139.5, 143.5, 148.5, 153. , 154. , 157. , 154.5,\n       153.5, 154. , 155. , 154. , 153.5, 153.5, 146. , 147.5, 151.5,\n       145. , 142.5, 149.5, 138.5])"
     },
     "execution_count": 30,
     "metadata": {},
     "output_type": "execute_result"
    }
   ],
   "source": [
    "arregloRadios[0:31]"
   ],
   "metadata": {
    "collapsed": false,
    "pycharm": {
     "name": "#%%\n"
    }
   }
  },
  {
   "cell_type": "code",
   "execution_count": null,
   "outputs": [],
   "source": [],
   "metadata": {
    "collapsed": false,
    "pycharm": {
     "name": "#%%\n"
    }
   }
  },
  {
   "cell_type": "code",
   "execution_count": 43,
   "outputs": [
    {
     "data": {
      "text/plain": "<Figure size 432x288 with 1 Axes>",
      "image/png": "[encoded data removed]"
     },
     "metadata": {
      "needs_background": "light"
     },
     "output_type": "display_data"
    }
   ],
   "source": [
    "\n",
    "plt.plot(t[0:20], arregloRadios[0:20]**2, 'o--')\n",
    "plt.xlabel('t(s)')\n",
    "plt.ylabel('Radio (Numero de frames)')\n",
    "plt.show()"
   ],
   "metadata": {
    "collapsed": false,
    "pycharm": {
     "name": "#%%\n"
    }
   }
  },
  {
   "cell_type": "code",
   "execution_count": 31,
   "outputs": [],
   "source": [
    "data = np.array([arregloRadiosMetros,arregloRadios, t]).T\n",
    "df = pd.DataFrame(data, columns=['radios(metros)','radios(pixeles)', 'tiempo'])"
   ],
   "metadata": {
    "collapsed": false,
    "pycharm": {
     "name": "#%%\n"
    }
   }
  },
  {
   "cell_type": "code",
   "execution_count": 32,
   "outputs": [],
   "source": [
    "df.to_csv(\"video3.csv\")"
   ],
   "metadata": {
    "collapsed": false,
    "pycharm": {
     "name": "#%%\n"
    }
   }
  },
  {
   "cell_type": "code",
   "execution_count": 33,
   "outputs": [
    {
     "data": {
      "text/plain": "    radios(metros)  radios(pixeles)    tiempo\n0         0.004319             22.0  0.000000\n1         0.009424             48.0  0.033670\n2         0.014038             71.5  0.067340\n3         0.015314             78.0  0.101010\n4         0.016198             82.5  0.134680\n..             ...              ...       ...\n95        0.025327            129.0  3.198653\n96        0.025622            130.5  3.232323\n97        0.025622            130.5  3.265993\n98        0.025916            132.0  3.299663\n99        0.025327            129.0  3.333333\n\n[100 rows x 3 columns]",
      "text/html": "<div>\n<style scoped>\n    .dataframe tbody tr th:only-of-type {\n        vertical-align: middle;\n    }\n\n    .dataframe tbody tr th {\n        vertical-align: top;\n    }\n\n    .dataframe thead th {\n        text-align: right;\n    }\n</style>\n<table border=\"1\" class=\"dataframe\">\n  <thead>\n    <tr style=\"text-align: right;\">\n      <th></th>\n      <th>radios(metros)</th>\n      <th>radios(pixeles)</th>\n      <th>tiempo</th>\n    </tr>\n  </thead>\n  <tbody>\n    <tr>\n      <th>0</th>\n      <td>0.004319</td>\n      <td>22.0</td>\n      <td>0.000000</td>\n    </tr>\n    <tr>\n      <th>1</th>\n      <td>0.009424</td>\n      <td>48.0</td>\n      <td>0.033670</td>\n    </tr>\n    <tr>\n      <th>2</th>\n      <td>0.014038</td>\n      <td>71.5</td>\n      <td>0.067340</td>\n    </tr>\n    <tr>\n      <th>3</th>\n      <td>0.015314</td>\n      <td>78.0</td>\n      <td>0.101010</td>\n    </tr>\n    <tr>\n      <th>4</th>\n      <td>0.016198</td>\n      <td>82.5</td>\n      <td>0.134680</td>\n    </tr>\n    <tr>\n      <th>...</th>\n      <td>...</td>\n      <td>...</td>\n      <td>...</td>\n    </tr>\n    <tr>\n      <th>95</th>\n      <td>0.025327</td>\n      <td>129.0</td>\n      <td>3.198653</td>\n    </tr>\n    <tr>\n      <th>96</th>\n      <td>0.025622</td>\n      <td>130.5</td>\n      <td>3.232323</td>\n    </tr>\n    <tr>\n      <th>97</th>\n      <td>0.025622</td>\n      <td>130.5</td>\n      <td>3.265993</td>\n    </tr>\n    <tr>\n      <th>98</th>\n      <td>0.025916</td>\n      <td>132.0</td>\n      <td>3.299663</td>\n    </tr>\n    <tr>\n      <th>99</th>\n      <td>0.025327</td>\n      <td>129.0</td>\n      <td>3.333333</td>\n    </tr>\n  </tbody>\n</table>\n<p>100 rows × 3 columns</p>\n</div>"
     },
     "execution_count": 33,
     "metadata": {},
     "output_type": "execute_result"
    }
   ],
   "source": [
    "df"
   ],
   "metadata": {
    "collapsed": false,
    "pycharm": {
     "name": "#%%\n"
    }
   }
  },
  {
   "cell_type": "code",
   "execution_count": 26,
   "outputs": [],
   "source": [
    "frame = cv.imread(\"./video3/frame498.jpg\", 0)\n",
    "frameRecortado = frame[330:850, 630:1200]\n",
    "cv.circle(frameRecortado,(285,240), int(arregloRadios[0]),(255,0,255),1)\n",
    "cv.line(frameRecortado,(285,0),(285,570), (255, 0,255), 1)\n",
    "cv.imshow('imagen',frameRecortado)\n",
    "cv.waitKey(0)\n",
    "cv.destroyAllWindows()"
   ],
   "metadata": {
    "collapsed": false,
    "pycharm": {
     "name": "#%%\n"
    }
   }
  },
  {
   "cell_type": "code",
   "execution_count": 239,
   "outputs": [],
   "source": [],
   "metadata": {
    "collapsed": false,
    "pycharm": {
     "name": "#%%\n"
    }
   }
  },
  {
   "cell_type": "code",
   "execution_count": null,
   "outputs": [],
   "source": [],
   "metadata": {
    "collapsed": false,
    "pycharm": {
     "name": "#%%\n"
    }
   }
  }
 ],
 "metadata": {
  "kernelspec": {
   "display_name": "Python 3",
   "language": "python",
   "name": "python3"
  },
  "language_info": {
   "codemirror_mode": {
    "name": "ipython",
    "version": 2
   },
   "file_extension": ".py",
   "mimetype": "text/x-python",
   "name": "python",
   "nbconvert_exporter": "python",
   "pygments_lexer": "ipython2",
   "version": "2.7.6"
  }
 },
 "nbformat": 4,
 "nbformat_minor": 0
}